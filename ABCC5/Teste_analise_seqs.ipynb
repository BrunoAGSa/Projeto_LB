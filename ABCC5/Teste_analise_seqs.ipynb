{
 "cells": [
  {
   "cell_type": "code",
   "execution_count": null,
   "metadata": {},
   "outputs": [],
   "source": [
    "from Bio import Seq\n",
    "from Bio import SeqIO\n",
    "from Bio import SeqFeature\n",
    "from Bio.SeqRecord import SeqRecord\n",
    "from Bio import Entrez\n",
    "from collections import Counter"
   ]
  },
  {
   "cell_type": "code",
   "execution_count": 61,
   "metadata": {},
   "outputs": [],
   "source": [
    "# Entrez.email = \"sa.bruno.2001@gmail.com\"\n",
    "# handle = Entrez.efetch(db=\"nucleotide\", id=\"NC_000003\", rettype=\"gb\", retmode=\"text\")"
   ]
  },
  {
   "cell_type": "code",
   "execution_count": 60,
   "metadata": {},
   "outputs": [],
   "source": [
    "file = input(\"File \")\n",
    "record = SeqIO.read(file, \"genbank\") "
   ]
  },
  {
   "cell_type": "code",
   "execution_count": null,
   "metadata": {},
   "outputs": [],
   "source": [
    "print(\"ID: \" + record.id)\n",
    "print(\"Description: \" + record.description)\n",
    "print(\"Name: \" + record.name)\n",
    "print(\"Lenght:\" + str(len(record.seq)))\n",
    "print(\"Type: \" + record.annotations[\"molecule_type\"] + \" \" +  record.annotations[\"topology\"])\n",
    "print(\"Accessions\" + str(record.annotations[\"accessions\"]))\n",
    "print(\"Source: \" + record.annotations[\"source\"])\n",
    "print()\n",
    "print(\"Publications:\")\n",
    "for c in record.annotations[\"references\"]:\n",
    "    print(c.title)\n",
    "    print(c.journal)\n",
    "print()\n",
    "\n",
    "\n"
   ]
  },
  {
   "cell_type": "code",
   "execution_count": null,
   "metadata": {},
   "outputs": [],
   "source": [
    "temp_l = []\n",
    "for c in range(len(record.features)):\n",
    "    temp_l.append(record.features[c].type)\n",
    "\n",
    "Counter(temp_l)"
   ]
  },
  {
   "cell_type": "code",
   "execution_count": null,
   "metadata": {},
   "outputs": [],
   "source": [
    "indice_list_cds = []\n",
    "for c in range(len(record.features)):\n",
    "    if record.features[c].type == \"CDS\":\n",
    "        indice_list_cds.append(c)"
   ]
  },
  {
   "cell_type": "code",
   "execution_count": null,
   "metadata": {},
   "outputs": [],
   "source": [
    "for c in indice_list_cds:\n",
    "    print()\n",
    "    print()\n",
    "    print(f\"CDS Numero {c}\")\n",
    "    print()\n",
    "    #print(record.features[c].qualifiers)\n",
    "    print(\"Gene: \"  +  str(record.features[c].qualifiers[\"gene\"]))\n",
    "    print(\"Gene synonym: \"  +  str(record.features[c].qualifiers[\"gene_synonym\"]))\n",
    "    print(\"Note: \"  +  str(record.features[c].qualifiers[\"note\"]))\n",
    "    print(\"Codon start: \"  +  str(record.features[c].qualifiers[\"codon_start\"]))   # verificar dps\n",
    "    print(\"Product: \"  +  str(record.features[c].qualifiers[\"product\"]))\n",
    "    print(\"Protein id: \"  +  str(record.features[c].qualifiers[\"protein_id\"]))\n",
    "    print(\"Db xref: \"  +  str(record.features[c].qualifiers[\"db_xref\"]))\n",
    "    print(\"Translation: \"  +  str(record.features[c].qualifiers[\"translation\"]))"
   ]
  },
  {
   "cell_type": "code",
   "execution_count": null,
   "metadata": {},
   "outputs": [],
   "source": [
    "indice_list_mRNA = []\n",
    "for c in range(len(record.features)):\n",
    "    if record.features[c].type == \"mRNA\":\n",
    "        indice_list_mRNA.append(c)"
   ]
  },
  {
   "cell_type": "code",
   "execution_count": 59,
   "metadata": {},
   "outputs": [
    {
     "name": "stdout",
     "output_type": "stream",
     "text": [
      "\n",
      "mRNA Numero 2\n",
      "\n",
      "Gene: ['ABCC5']\n",
      "Gene synonym: ['ABC33; EST277145; MOAT-C; MOATC; MRP5; pABC11; SMRP']\n",
      "note, Value: ['Derived by automated computational analysis using gene prediction method: BestRefSeq.']\n",
      "Product: ['ATP binding cassette subfamily C member 5, transcript variant 1']\n",
      "Db xref: ['Ensembl:ENST00000334444.11', 'GeneID:10057', 'HGNC:HGNC:56', 'MIM:605251']\n",
      "transcript_id: ['NM_005688.4']\n",
      "\n",
      "\n",
      "\n",
      "mRNA Numero 3\n",
      "\n",
      "Gene: ['ABCC5']\n",
      "Gene synonym: ['ABC33; EST277145; MOAT-C; MOATC; MRP5; pABC11; SMRP']\n",
      "note, Value: ['Derived by automated computational analysis using gene prediction method: BestRefSeq.']\n",
      "Product: ['ATP binding cassette subfamily C member 5, transcript variant 3']\n",
      "Db xref: ['GeneID:10057', 'HGNC:HGNC:56', 'MIM:605251']\n",
      "transcript_id: ['NM_001320032.2']\n",
      "\n",
      "\n",
      "\n",
      "mRNA Numero 4\n",
      "\n",
      "Gene: ['ABCC5']\n",
      "Gene synonym: ['ABC33; EST277145; MOAT-C; MOATC; MRP5; pABC11; SMRP']\n",
      "note, Value: Not Available \n",
      "Product: ['ATP binding cassette subfamily C member 5, transcript variant X1']\n",
      "Db xref: ['GeneID:10057', 'HGNC:HGNC:56', 'MIM:605251']\n",
      "transcript_id: ['XM_005247059.6']\n",
      "\n",
      "\n",
      "\n",
      "mRNA Numero 5\n",
      "\n",
      "Gene: ['ABCC5']\n",
      "Gene synonym: ['ABC33; EST277145; MOAT-C; MOATC; MRP5; pABC11; SMRP']\n",
      "note, Value: Not Available \n",
      "Product: ['ATP binding cassette subfamily C member 5, transcript variant X2']\n",
      "Db xref: ['GeneID:10057', 'HGNC:HGNC:56', 'MIM:605251']\n",
      "transcript_id: ['XM_011512314.3']\n",
      "\n",
      "\n",
      "\n",
      "mRNA Numero 6\n",
      "\n",
      "Gene: ['ABCC5']\n",
      "Gene synonym: ['ABC33; EST277145; MOAT-C; MOATC; MRP5; pABC11; SMRP']\n",
      "note, Value: Not Available \n",
      "Product: ['ATP binding cassette subfamily C member 5, transcript variant X3']\n",
      "Db xref: ['GeneID:10057', 'HGNC:HGNC:56', 'MIM:605251']\n",
      "transcript_id: ['XM_047447098.1']\n",
      "\n",
      "\n",
      "\n",
      "mRNA Numero 12\n",
      "\n",
      "Gene: ['ABCC5']\n",
      "Gene synonym: ['ABC33; EST277145; MOAT-C; MOATC; MRP5; pABC11; SMRP']\n",
      "note, Value: ['Derived by automated computational analysis using gene prediction method: Gnomon. Supporting evidence includes similarity to: 63 ESTs, 328 long SRA reads, 1 Protein, and 100% coverage of the annotated genomic feature by RNAseq alignments, including 66 samples with support for all annotated introns']\n",
      "Product: ['ATP binding cassette subfamily C member 5, transcript variant X4']\n",
      "Db xref: ['GeneID:10057', 'HGNC:HGNC:56', 'MIM:605251']\n",
      "transcript_id: ['XM_011512315.2']\n",
      "\n",
      "\n",
      "\n",
      "mRNA Numero 14\n",
      "\n",
      "Gene: ['ABCC5']\n",
      "Gene synonym: ['ABC33; EST277145; MOAT-C; MOATC; MRP5; pABC11; SMRP']\n",
      "note, Value: ['Derived by automated computational analysis using gene prediction method: BestRefSeq.']\n",
      "Product: ['ATP binding cassette subfamily C member 5, transcript variant 2']\n",
      "Db xref: ['GeneID:10057', 'HGNC:HGNC:56', 'MIM:605251']\n",
      "transcript_id: ['NM_001023587.3']\n",
      "\n",
      "\n",
      "\n",
      "mRNA Numero 15\n",
      "\n",
      "Gene: ['ABCC5']\n",
      "Gene synonym: ['ABC33; EST277145; MOAT-C; MOATC; MRP5; pABC11; SMRP']\n",
      "note, Value: Not Available \n",
      "Product: ['ATP binding cassette subfamily C member 5, transcript variant X5']\n",
      "Db xref: ['GeneID:10057', 'HGNC:HGNC:56', 'MIM:605251']\n",
      "transcript_id: ['XM_017005493.2']\n",
      "\n",
      "\n",
      "\n",
      "mRNA Numero 17\n",
      "\n",
      "Gene: ['ABCC5']\n",
      "Gene synonym: ['ABC33; EST277145; MOAT-C; MOATC; MRP5; pABC11; SMRP']\n",
      "note, Value: Not Available \n",
      "Product: ['ATP binding cassette subfamily C member 5, transcript variant X7']\n",
      "Db xref: ['GeneID:10057', 'HGNC:HGNC:56', 'MIM:605251']\n",
      "transcript_id: ['XM_047447100.1']\n",
      "\n",
      "\n",
      "\n",
      "mRNA Numero 18\n",
      "\n",
      "Gene: ['ABCC5']\n",
      "Gene synonym: ['ABC33; EST277145; MOAT-C; MOATC; MRP5; pABC11; SMRP']\n",
      "note, Value: Not Available \n",
      "Product: ['ATP binding cassette subfamily C member 5, transcript variant X6']\n",
      "Db xref: ['GeneID:10057', 'HGNC:HGNC:56', 'MIM:605251']\n",
      "transcript_id: ['XM_047447099.1']\n",
      "\n",
      "\n"
     ]
    }
   ],
   "source": [
    "for c in indice_list_mRNA:\n",
    "    print()\n",
    "    print(f\"mRNA Numero {c}\")\n",
    "    print()\n",
    "    print(\"Gene: \"  +  str(record.features[c].qualifiers[\"gene\"]))\n",
    "    print(\"Gene synonym: \"  +  str(record.features[c].qualifiers[\"gene_synonym\"]))\n",
    "    try:\n",
    "        print(\"note, Value: \"  +  str(record.features[c].qualifiers[\"note\"]))\n",
    "    except:\n",
    "        print(\"note, Value: Not Available \") \n",
    "    print(\"Product: \"  +  str(record.features[c].qualifiers[\"product\"]))\n",
    "    print(\"Db xref: \"  +  str(record.features[c].qualifiers[\"db_xref\"]))\n",
    "    print(\"transcript_id: \"  +  str(record.features[c].qualifiers[\"transcript_id\"]))\n",
    "    print()\n",
    "    print()"
   ]
  },
  {
   "cell_type": "code",
   "execution_count": null,
   "metadata": {},
   "outputs": [],
   "source": [
    "indice_list_gene = []\n",
    "for c in range(len(record.features)):\n",
    "    if record.features[c].type == \"gene\":\n",
    "        indice_list_gene.append(c)"
   ]
  },
  {
   "cell_type": "code",
   "execution_count": null,
   "metadata": {},
   "outputs": [],
   "source": [
    "for c in indice_list_gene:\n",
    "    print()\n",
    "    print()\n",
    "    print(f\"CDS Numero {c}\")\n",
    "    print()\n",
    "    #print(record.features[c].qualifiers)\n",
    "    print(record.features[c])"
   ]
  }
 ],
 "metadata": {
  "kernelspec": {
   "display_name": "mestrado_final",
   "language": "python",
   "name": "python3"
  },
  "language_info": {
   "codemirror_mode": {
    "name": "ipython",
    "version": 3
   },
   "file_extension": ".py",
   "mimetype": "text/x-python",
   "name": "python",
   "nbconvert_exporter": "python",
   "pygments_lexer": "ipython3",
   "version": "3.9.13"
  },
  "orig_nbformat": 4,
  "vscode": {
   "interpreter": {
    "hash": "f2307cf6e279acbb4fe5a904c1ba66075afa04f4e5f00d0d9abed1d852b5aca9"
   }
  }
 },
 "nbformat": 4,
 "nbformat_minor": 2
}
