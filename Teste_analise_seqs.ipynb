{
 "cells": [
  {
   "cell_type": "code",
   "execution_count": 2,
   "metadata": {},
   "outputs": [],
   "source": [
    "from Bio import Seq\n",
    "from Bio import SeqIO\n",
    "from Bio import SeqFeature\n",
    "from Bio.SeqRecord import SeqRecord"
   ]
  },
  {
   "cell_type": "code",
   "execution_count": 3,
   "metadata": {},
   "outputs": [],
   "source": [
    "record = SeqIO.read(\"sequence.gb\", \"genbank\") # falta tratar do Input"
   ]
  },
  {
   "cell_type": "code",
   "execution_count": 52,
   "metadata": {},
   "outputs": [
    {
     "name": "stdout",
     "output_type": "stream",
     "text": [
      "ID: NC_000017.10\n",
      "Description: Homo sapiens chromosome 17, GRCh37.p13 Primary Assembly\n",
      "Name: NC_000017\n",
      "Lenght:105545\n",
      "Type: DNA linear\n",
      "Accessions['NC_000017', 'REGION:', 'complement(41184133..41289677)']\n",
      "Source: Homo sapiens (human)\n",
      "\n",
      "Publications:\n",
      "DNA sequence of human chromosome 17 and analysis of rearrangement in the human lineage\n",
      "Nature 440 (7087), 1045-1049 (2006)\n",
      "Finishing the euchromatic sequence of the human genome\n",
      "Nature 431 (7011), 931-945 (2004)\n",
      "Initial sequencing and analysis of the human genome\n",
      "Nature 409 (6822), 860-921 (2001)\n",
      "\n"
     ]
    }
   ],
   "source": [
    "print(\"ID: \" + record.id)\n",
    "print(\"Description: \" + record.description)\n",
    "print(\"Name: \" + record.name)\n",
    "print(\"Lenght:\" + str(len(record.seq)))\n",
    "print(\"Type: \" + record.annotations[\"molecule_type\"] + \" \" +  record.annotations[\"topology\"])\n",
    "print(\"Accessions\" + str(record.annotations[\"accessions\"]))\n",
    "print(\"Source: \" + record.annotations[\"source\"])\n",
    "print()\n",
    "print(\"Publications:\")\n",
    "for c in record.annotations[\"references\"]:\n",
    "    print(c.title)\n",
    "    print(c.journal)\n",
    "print()\n",
    "\n",
    "\n"
   ]
  }
 ],
 "metadata": {
  "kernelspec": {
   "display_name": "mestrado_final",
   "language": "python",
   "name": "python3"
  },
  "language_info": {
   "codemirror_mode": {
    "name": "ipython",
    "version": 3
   },
   "file_extension": ".py",
   "mimetype": "text/x-python",
   "name": "python",
   "nbconvert_exporter": "python",
   "pygments_lexer": "ipython3",
   "version": "3.9.13"
  },
  "orig_nbformat": 4,
  "vscode": {
   "interpreter": {
    "hash": "f2307cf6e279acbb4fe5a904c1ba66075afa04f4e5f00d0d9abed1d852b5aca9"
   }
  }
 },
 "nbformat": 4,
 "nbformat_minor": 2
}
