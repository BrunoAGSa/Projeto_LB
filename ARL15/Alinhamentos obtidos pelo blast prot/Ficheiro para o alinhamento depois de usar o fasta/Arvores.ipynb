{
 "cells": [
  {
   "cell_type": "code",
   "execution_count": 10,
   "metadata": {},
   "outputs": [],
   "source": [
    "from Bio import AlignIO\n",
    "from Bio import SeqIO\n",
    "from Bio.Align import MultipleSeqAlignment\n",
    "from Bio.Phylo.TreeConstruction import DistanceCalculator\n",
    "from Bio.Phylo.TreeConstruction import DistanceTreeConstructor\n",
    "from Bio import Phylo\n"
   ]
  },
  {
   "cell_type": "code",
   "execution_count": 17,
   "metadata": {},
   "outputs": [
    {
     "name": "stdout",
     "output_type": "stream",
     "text": [
      "Alignment with 10 rows and 496 columns\n",
      "MSPL----------------------------------------...VRM XP_011541800.1\n",
      "--------------------------------------------...VRM XP_016865087.1\n",
      "--------------------------------------------...IRM XP_030671625.1\n",
      "--------------------------------------------...IRM XP_007970464.1\n",
      "--------------------------------------------...IRM XP_011770220.1\n",
      "--------------------------------------------...VRM XP_037654703.1\n",
      "--------------------------------------------...IRM XP_006149076.1\n",
      "--------------------------------------------...VRM XP_017825412.2\n",
      "--------------------------------------------...IRM XP_012304995.1\n",
      "--------------------------------------------...IRM XP_032001099.1\n"
     ]
    }
   ],
   "source": [
    "alinhamento= AlignIO.read(\"alinhamento_múltiplo_10.txt\",\"fasta\")\n",
    "print(alinhamento)"
   ]
  },
  {
   "cell_type": "code",
   "execution_count": 12,
   "metadata": {},
   "outputs": [
    {
     "name": "stdout",
     "output_type": "stream",
     "text": [
      "XP_011541800.1\t0\n",
      "XP_016865087.1\t0.0\t0\n",
      "XP_030671625.1\t0.0018518518518518823\t0.0018518518518518823\t0\n",
      "XP_007970464.1\t0.00462962962962965\t0.00462962962962965\t0.00462962962962965\t0\n",
      "XP_011770220.1\t0.005555555555555536\t0.005555555555555536\t0.005555555555555536\t0.000926784059314234\t0\n",
      "XP_037654703.1\t0.008333333333333304\t0.008333333333333304\t0.010185185185185186\t0.0064814814814815325\t0.007407407407407418\t0\n",
      "XP_006149076.1\t0.008333333333333304\t0.008333333333333304\t0.008333333333333304\t0.00462962962962965\t0.005555555555555536\t0.0018518518518518823\t0\n",
      "XP_017825412.2\t0.0064814814814815325\t0.0064814814814815325\t0.008333333333333304\t0.00462962962962965\t0.005555555555555536\t0.008333333333333304\t0.008333333333333304\t0\n",
      "XP_012304995.1\t0.010185185185185186\t0.010185185185185186\t0.010185185185185186\t0.0064814814814815325\t0.007407407407407418\t0.008333333333333304\t0.0064814814814815325\t0.0037037037037036535\t0\n",
      "XP_032001099.1\t0.008333333333333304\t0.008333333333333304\t0.0064814814814815325\t0.011111111111111072\t0.012037037037037068\t0.01666666666666672\t0.014814814814814836\t0.014814814814814836\t0.01666666666666672\t0\n",
      "\tXP_011541800.1\tXP_016865087.1\tXP_030671625.1\tXP_007970464.1\tXP_011770220.1\tXP_037654703.1\tXP_006149076.1\tXP_017825412.2\tXP_012304995.1\tXP_032001099.1\n"
     ]
    }
   ],
   "source": [
    "calculator = DistanceCalculator('blosum62')\n",
    "dm = calculator.get_distance(alinhamento)\n",
    "print(dm)"
   ]
  },
  {
   "cell_type": "code",
   "execution_count": 13,
   "metadata": {},
   "outputs": [
    {
     "name": "stdout",
     "output_type": "stream",
     "text": [
      "Tree(rooted=True)\n",
      "    Clade(branch_length=0, name='Inner9')\n",
      "        Clade(name='XP_032001099.1')\n",
      "        Clade(name='Inner8')\n",
      "            Clade(name='Inner5')\n",
      "                Clade(name='XP_012304995.1')\n",
      "                Clade(name='XP_017825412.2')\n",
      "            Clade(name='Inner7')\n",
      "                Clade(name='Inner3')\n",
      "                    Clade(name='XP_006149076.1')\n",
      "                    Clade(name='XP_037654703.1')\n",
      "                Clade(name='Inner6')\n",
      "                    Clade(name='Inner2')\n",
      "                        Clade(name='XP_011770220.1')\n",
      "                        Clade(name='XP_007970464.1')\n",
      "                    Clade(name='Inner4')\n",
      "                        Clade(name='XP_030671625.1')\n",
      "                        Clade(name='Inner1')\n",
      "                            Clade(name='XP_016865087.1')\n",
      "                            Clade(name='XP_011541800.1')\n"
     ]
    }
   ],
   "source": [
    "contrutor = DistanceTreeConstructor()\n",
    "upgma= contrutor.upgma(dm)\n",
    "print(upgma)\n"
   ]
  },
  {
   "cell_type": "code",
   "execution_count": 14,
   "metadata": {},
   "outputs": [
    {
     "name": "stdout",
     "output_type": "stream",
     "text": [
      "  _______________________________ XP_032001099.1\n",
      " |\n",
      " |                                ________ XP_012304995.1\n",
      "_|                       ________|\n",
      " |                      |        |________ XP_017825412.2\n",
      " |                      |\n",
      " |______________________|                          ___ XP_006149076.1\n",
      "                        |             ____________|\n",
      "                        |            |            |___ XP_037654703.1\n",
      "                        |            |\n",
      "                        |____________|                      __ XP_011770220.1\n",
      "                                     |             ________|\n",
      "                                     |            |        |__ XP_007970464.1\n",
      "                                     |____________|\n",
      "                                                  |       ____ XP_030671625.1\n",
      "                                                  |______|\n",
      "                                                         |    , XP_016865087.1\n",
      "                                                         |____|\n",
      "                                                              | XP_011541800.1\n",
      "\n"
     ]
    }
   ],
   "source": [
    "Phylo.draw_ascii(upgma)"
   ]
  },
  {
   "cell_type": "code",
   "execution_count": 15,
   "metadata": {},
   "outputs": [
    {
     "name": "stdout",
     "output_type": "stream",
     "text": [
      "Tree(rooted=False)\n",
      "    Clade(branch_length=0, name='Inner8')\n",
      "        Clade(name='Inner5')\n",
      "            Clade(name='Inner4')\n",
      "                Clade(name='XP_011541800.1')\n",
      "                Clade(name='XP_016865087.1')\n",
      "            Clade(name='Inner3')\n",
      "                Clade(name='XP_032001099.1')\n",
      "                Clade(name='XP_030671625.1')\n",
      "        Clade(name='Inner7')\n",
      "            Clade(name='XP_011770220.1')\n",
      "            Clade(name='XP_007970464.1')\n",
      "        Clade(name='Inner6')\n",
      "            Clade(name='Inner2')\n",
      "                Clade(name='XP_012304995.1')\n",
      "                Clade(name='XP_017825412.2')\n",
      "            Clade(name='Inner1')\n",
      "                Clade(name='XP_006149076.1')\n",
      "                Clade(name='XP_037654703.1')\n"
     ]
    }
   ],
   "source": [
    "nj= contrutor.nj(dm)\n",
    "print(nj)"
   ]
  },
  {
   "cell_type": "code",
   "execution_count": 16,
   "metadata": {},
   "outputs": [
    {
     "name": "stdout",
     "output_type": "stream",
     "text": [
      "                      , XP_011541800.1\n",
      "                   ___|\n",
      "                  |   | XP_016865087.1\n",
      "  ________________|\n",
      " |                |      _____________________________________ XP_032001099.1\n",
      " |                |_____|\n",
      " |                      | XP_030671625.1\n",
      " |\n",
      " |   _____ XP_011770220.1\n",
      "_|__|\n",
      " |  | XP_007970464.1\n",
      " |\n",
      " |                 _______________ XP_012304995.1\n",
      " |     ___________|\n",
      " |    |           |____ XP_017825412.2\n",
      " |____|\n",
      "      |                 _ XP_006149076.1\n",
      "      |________________|\n",
      "                       |________ XP_037654703.1\n",
      "\n"
     ]
    }
   ],
   "source": [
    "Phylo.draw_ascii(nj)"
   ]
  }
 ],
 "metadata": {
  "kernelspec": {
   "display_name": "base",
   "language": "python",
   "name": "python3"
  },
  "language_info": {
   "codemirror_mode": {
    "name": "ipython",
    "version": 3
   },
   "file_extension": ".py",
   "mimetype": "text/x-python",
   "name": "python",
   "nbconvert_exporter": "python",
   "pygments_lexer": "ipython3",
   "version": "3.9.12"
  },
  "orig_nbformat": 4,
  "vscode": {
   "interpreter": {
    "hash": "12752d1325306e0d13ba81c4f4222c0600fa831e8bd8a6fa39f7f9f637486b90"
   }
  }
 },
 "nbformat": 4,
 "nbformat_minor": 2
}
