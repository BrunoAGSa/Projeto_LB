{
 "cells": [
  {
   "cell_type": "code",
   "execution_count": 8,
   "metadata": {},
   "outputs": [],
   "source": [
    "from Bio import AlignIO\n",
    "from Bio import SeqIO\n",
    "from Bio.Align import MultipleSeqAlignment\n",
    "from Bio.Phylo.TreeConstruction import DistanceCalculator\n",
    "from Bio.Phylo.TreeConstruction import DistanceTreeConstructor\n",
    "from Bio import Phylo\n"
   ]
  },
  {
   "cell_type": "code",
   "execution_count": 9,
   "metadata": {},
   "outputs": [
    {
     "name": "stdout",
     "output_type": "stream",
     "text": [
      "Alignment with 10 rows and 281 columns\n",
      "MSPLGSRRARWPPALRSSLFAFFLWDRMPLGFFLPQPAGKKNAP...VRM Homo_sapiens\n",
      "--------------------------------------------...IRM Nomascus_leucogenys\n",
      "--------------------------------------------...IRM Chlorocebus_sabaeus\n",
      "--------------------------------------------...IRM Macaca_nemestrina\n",
      "--------------------------------------------...VRM Choloepus_didactylus\n",
      "--------------------------------------------...IRM Tupaia_chinensis\n",
      "--------------------------------------------...VRM Callithrix_jacchus\n",
      "MTDLRITE------------AFLYMDYLLL------EAGRESFV...VRM Pteropus_giganteus\n",
      "MSDLRITE------------AFLYMDYL----------------...VRM Balaenoptera_musculus\n",
      "MTDLQITE------------AFLYMDYL----------------...VRM Rhinolophus_sinicus\n"
     ]
    }
   ],
   "source": [
    "alinhamento= AlignIO.read(\"alinhamento_multilplo_dif.organ.txt\",\"fasta\")\n",
    "print(alinhamento)"
   ]
  },
  {
   "cell_type": "code",
   "execution_count": 10,
   "metadata": {},
   "outputs": [
    {
     "name": "stdout",
     "output_type": "stream",
     "text": [
      "Homo_sapiens\t0\n",
      "Nomascus_leucogenys\t0.0018518518518518823\t0\n",
      "Chlorocebus_sabaeus\t0.00462962962962965\t0.00462962962962965\t0\n",
      "Macaca_nemestrina\t0.005555555555555536\t0.005555555555555536\t0.000926784059314234\t0\n",
      "Choloepus_didactylus\t0.008333333333333304\t0.010185185185185186\t0.0064814814814815325\t0.007407407407407418\t0\n",
      "Tupaia_chinensis\t0.008333333333333304\t0.008333333333333304\t0.00462962962962965\t0.005555555555555536\t0.0018518518518518823\t0\n",
      "Callithrix_jacchus\t0.0064814814814815325\t0.008333333333333304\t0.00462962962962965\t0.005555555555555536\t0.008333333333333304\t0.008333333333333304\t0\n",
      "Pteropus_giganteus\t0.14022988505747125\t0.007400555041628176\t0.010175763182238673\t0.011100832562442209\t0.0037002775208140326\t0.005550416281221104\t0.012025901942645745\t0\n",
      "Balaenoptera_musculus\t0.06484641638225253\t0.011111111111111072\t0.0129749768303985\t0.013901760889712733\t0.007407407407407418\t0.0092592592592593\t0.015740740740740722\t0.0077054794520547976\t0\n",
      "Rhinolophus_sinicus\t0.0691126279863481\t0.012962962962962954\t0.015740740740740722\t0.01666666666666672\t0.0092592592592593\t0.011111111111111072\t0.017592592592592604\t0.009417808219178037\t0.016281062553556103\t0\n",
      "\tHomo_sapiens\tNomascus_leucogenys\tChlorocebus_sabaeus\tMacaca_nemestrina\tCholoepus_didactylus\tTupaia_chinensis\tCallithrix_jacchus\tPteropus_giganteus\tBalaenoptera_musculus\tRhinolophus_sinicus\n"
     ]
    }
   ],
   "source": [
    "calculator = DistanceCalculator('blosum62')\n",
    "dm = calculator.get_distance(alinhamento)\n",
    "print(dm)"
   ]
  },
  {
   "cell_type": "code",
   "execution_count": 11,
   "metadata": {},
   "outputs": [
    {
     "name": "stdout",
     "output_type": "stream",
     "text": [
      "Tree(rooted=True)\n",
      "    Clade(branch_length=0, name='Inner9')\n",
      "        Clade(name='Inner8')\n",
      "            Clade(name='Rhinolophus_sinicus')\n",
      "            Clade(name='Inner7')\n",
      "                Clade(name='Balaenoptera_musculus')\n",
      "                Clade(name='Inner4')\n",
      "                    Clade(name='Pteropus_giganteus')\n",
      "                    Clade(name='Inner2')\n",
      "                        Clade(name='Tupaia_chinensis')\n",
      "                        Clade(name='Choloepus_didactylus')\n",
      "        Clade(name='Inner6')\n",
      "            Clade(name='Inner5')\n",
      "                Clade(name='Callithrix_jacchus')\n",
      "                Clade(name='Inner1')\n",
      "                    Clade(name='Macaca_nemestrina')\n",
      "                    Clade(name='Chlorocebus_sabaeus')\n",
      "            Clade(name='Inner3')\n",
      "                Clade(name='Nomascus_leucogenys')\n",
      "                Clade(name='Homo_sapiens')\n"
     ]
    }
   ],
   "source": [
    "contrutor = DistanceTreeConstructor()\n",
    "upgma= contrutor.upgma(dm)\n",
    "print(upgma)\n"
   ]
  },
  {
   "cell_type": "code",
   "execution_count": 12,
   "metadata": {},
   "outputs": [
    {
     "name": "stdout",
     "output_type": "stream",
     "text": [
      "                             _______________________ Rhinolophus_sinicus\n",
      "  __________________________|\n",
      " |                          |         ______________ Balaenoptera_musculus\n",
      " |                          |________|\n",
      " |                                   |       _______ Pteropus_giganteus\n",
      " |                                   |______|\n",
      " |                                          |     __ Tupaia_chinensis\n",
      "_|                                          |____|\n",
      " |                                               |__ Choloepus_didactylus\n",
      " |\n",
      " |                                            _________ Callithrix_jacchus\n",
      " |                                          _|\n",
      " |                                         | |        _ Macaca_nemestrina\n",
      " |                                         | |_______|\n",
      " |_________________________________________|         |_ Chlorocebus_sabaeus\n",
      "                                           |\n",
      "                                           |        ___ Nomascus_leucogenys\n",
      "                                           |_______|\n",
      "                                                   |___ Homo_sapiens\n",
      "\n"
     ]
    }
   ],
   "source": [
    "Phylo.draw_ascii(upgma)"
   ]
  },
  {
   "cell_type": "code",
   "execution_count": 13,
   "metadata": {},
   "outputs": [
    {
     "name": "stdout",
     "output_type": "stream",
     "text": [
      "Tree(rooted=False)\n",
      "    Clade(branch_length=0, name='Inner8')\n",
      "        Clade(name='Inner7')\n",
      "            Clade(name='Balaenoptera_musculus')\n",
      "            Clade(name='Inner6')\n",
      "                Clade(name='Inner5')\n",
      "                    Clade(name='Tupaia_chinensis')\n",
      "                    Clade(name='Inner4')\n",
      "                        Clade(name='Callithrix_jacchus')\n",
      "                        Clade(name='Inner3')\n",
      "                            Clade(name='Inner2')\n",
      "                                Clade(name='Macaca_nemestrina')\n",
      "                                Clade(name='Inner1')\n",
      "                                    Clade(name='Homo_sapiens')\n",
      "                                    Clade(name='Nomascus_leucogenys')\n",
      "                            Clade(name='Chlorocebus_sabaeus')\n",
      "                Clade(name='Choloepus_didactylus')\n",
      "        Clade(name='Pteropus_giganteus')\n",
      "        Clade(name='Rhinolophus_sinicus')\n"
     ]
    }
   ],
   "source": [
    "nj= contrutor.nj(dm)\n",
    "print(nj)"
   ]
  },
  {
   "cell_type": "code",
   "execution_count": 14,
   "metadata": {},
   "outputs": [
    {
     "name": "stdout",
     "output_type": "stream",
     "text": [
      "   ______ Balaenoptera_musculus\n",
      "  |\n",
      "  |    , Tupaia_chinensis\n",
      "  |    |\n",
      " ,|  __|      , Callithrix_jacchus\n",
      " || |  |      |\n",
      " || |  |______|       , Macaca_nemestrina\n",
      " || |         |    ___|\n",
      " || |         |   |   |             ___________________ Homo_sapiens\n",
      " ||_|         |___|   |____________|\n",
      " |  |             |                | Nomascus_leucogenys\n",
      "_|  |             |\n",
      " |  |             | Chlorocebus_sabaeus\n",
      " |  |\n",
      " |  | Choloepus_didactylus\n",
      " |\n",
      " | Pteropus_giganteus\n",
      " |\n",
      " |________ Rhinolophus_sinicus\n",
      "\n"
     ]
    }
   ],
   "source": [
    "Phylo.draw_ascii(nj)"
   ]
  }
 ],
 "metadata": {
  "kernelspec": {
   "display_name": "base",
   "language": "python",
   "name": "python3"
  },
  "language_info": {
   "codemirror_mode": {
    "name": "ipython",
    "version": 3
   },
   "file_extension": ".py",
   "mimetype": "text/x-python",
   "name": "python",
   "nbconvert_exporter": "python",
   "pygments_lexer": "ipython3",
   "version": "3.9.12"
  },
  "orig_nbformat": 4,
  "vscode": {
   "interpreter": {
    "hash": "12752d1325306e0d13ba81c4f4222c0600fa831e8bd8a6fa39f7f9f637486b90"
   }
  }
 },
 "nbformat": 4,
 "nbformat_minor": 2
}
