{
 "cells": [
  {
   "cell_type": "code",
   "execution_count": 60,
   "metadata": {},
   "outputs": [
    {
     "ename": "IndexError",
     "evalue": "list index out of range",
     "output_type": "error",
     "traceback": [
      "\u001b[0;31m---------------------------------------------------------------------------\u001b[0m",
      "\u001b[0;31mIndexError\u001b[0m                                Traceback (most recent call last)",
      "\u001b[1;32m/home/sa_bruno/Documentos/GitHub/Projeto_LB/Teste_Info_Prots.ipynb Cell 1\u001b[0m in \u001b[0;36m<cell line: 6>\u001b[0;34m()\u001b[0m\n\u001b[1;32m      <a href='vscode-notebook-cell:/home/sa_bruno/Documentos/GitHub/Projeto_LB/Teste_Info_Prots.ipynb#W0sZmlsZQ%3D%3D?line=4'>5</a>\u001b[0m a \u001b[39m=\u001b[39m \u001b[39m\"\u001b[39m\u001b[39mP37231\u001b[39m\u001b[39m\"\u001b[39m\n\u001b[1;32m      <a href='vscode-notebook-cell:/home/sa_bruno/Documentos/GitHub/Projeto_LB/Teste_Info_Prots.ipynb#W0sZmlsZQ%3D%3D?line=5'>6</a>\u001b[0m \u001b[39mwith\u001b[39;00m ExPASy\u001b[39m.\u001b[39mget_sprot_raw(a) \u001b[39mas\u001b[39;00m handle:\n\u001b[0;32m----> <a href='vscode-notebook-cell:/home/sa_bruno/Documentos/GitHub/Projeto_LB/Teste_Info_Prots.ipynb#W0sZmlsZQ%3D%3D?line=6'>7</a>\u001b[0m     record \u001b[39m=\u001b[39m SeqIO\u001b[39m.\u001b[39;49mread(handle, \u001b[39m\"\u001b[39;49m\u001b[39mswiss\u001b[39;49m\u001b[39m\"\u001b[39;49m)\n\u001b[1;32m     <a href='vscode-notebook-cell:/home/sa_bruno/Documentos/GitHub/Projeto_LB/Teste_Info_Prots.ipynb#W0sZmlsZQ%3D%3D?line=9'>10</a>\u001b[0m \u001b[39mprint\u001b[39m(\u001b[39m\"\u001b[39m\u001b[39mid: \u001b[39m\u001b[39m\"\u001b[39m \u001b[39m+\u001b[39m record\u001b[39m.\u001b[39mid)\n\u001b[1;32m     <a href='vscode-notebook-cell:/home/sa_bruno/Documentos/GitHub/Projeto_LB/Teste_Info_Prots.ipynb#W0sZmlsZQ%3D%3D?line=10'>11</a>\u001b[0m \u001b[39mprint\u001b[39m(\u001b[39m\"\u001b[39m\u001b[39mname: \u001b[39m\u001b[39m\"\u001b[39m \u001b[39m+\u001b[39m record\u001b[39m.\u001b[39mname)\n",
      "File \u001b[0;32m~/anaconda3/envs/mestrado_final/lib/python3.9/site-packages/Bio/SeqIO/__init__.py:656\u001b[0m, in \u001b[0;36mread\u001b[0;34m(handle, format, alphabet)\u001b[0m\n\u001b[1;32m    654\u001b[0m iterator \u001b[39m=\u001b[39m parse(handle, \u001b[39mformat\u001b[39m, alphabet)\n\u001b[1;32m    655\u001b[0m \u001b[39mtry\u001b[39;00m:\n\u001b[0;32m--> 656\u001b[0m     record \u001b[39m=\u001b[39m \u001b[39mnext\u001b[39;49m(iterator)\n\u001b[1;32m    657\u001b[0m \u001b[39mexcept\u001b[39;00m \u001b[39mStopIteration\u001b[39;00m:\n\u001b[1;32m    658\u001b[0m     \u001b[39mraise\u001b[39;00m \u001b[39mValueError\u001b[39;00m(\u001b[39m\"\u001b[39m\u001b[39mNo records found in handle\u001b[39m\u001b[39m\"\u001b[39m) \u001b[39mfrom\u001b[39;00m \u001b[39mNone\u001b[39m\n",
      "File \u001b[0;32m~/anaconda3/envs/mestrado_final/lib/python3.9/site-packages/Bio/SeqIO/SwissIO.py:78\u001b[0m, in \u001b[0;36mSwissIterator\u001b[0;34m(source)\u001b[0m\n\u001b[1;32m     58\u001b[0m \u001b[39m\"\"\"Break up a Swiss-Prot/UniProt file into SeqRecord objects.\u001b[39;00m\n\u001b[1;32m     59\u001b[0m \n\u001b[1;32m     60\u001b[0m \u001b[39mArgument source is a file-like object or a path to a file.\u001b[39;00m\n\u001b[0;32m   (...)\u001b[0m\n\u001b[1;32m     74\u001b[0m \u001b[39mparser via Bio.SeqIO.parse(..., format=\"swiss\") instead.\u001b[39;00m\n\u001b[1;32m     75\u001b[0m \u001b[39m\"\"\"\u001b[39;00m\n\u001b[1;32m     76\u001b[0m swiss_records \u001b[39m=\u001b[39m SwissProt\u001b[39m.\u001b[39mparse(source)\n\u001b[0;32m---> 78\u001b[0m \u001b[39mfor\u001b[39;00m swiss_record \u001b[39min\u001b[39;00m swiss_records:\n\u001b[1;32m     79\u001b[0m     \u001b[39m# Convert the SwissProt record to a SeqRecord\u001b[39;00m\n\u001b[1;32m     80\u001b[0m     record \u001b[39m=\u001b[39m SeqRecord(\n\u001b[1;32m     81\u001b[0m         Seq(swiss_record\u001b[39m.\u001b[39msequence),\n\u001b[1;32m     82\u001b[0m         \u001b[39mid\u001b[39m\u001b[39m=\u001b[39mswiss_record\u001b[39m.\u001b[39maccessions[\u001b[39m0\u001b[39m],\n\u001b[0;32m   (...)\u001b[0m\n\u001b[1;32m     85\u001b[0m         features\u001b[39m=\u001b[39mswiss_record\u001b[39m.\u001b[39mfeatures,\n\u001b[1;32m     86\u001b[0m     )\n\u001b[1;32m     87\u001b[0m     \u001b[39mfor\u001b[39;00m cross_reference \u001b[39min\u001b[39;00m swiss_record\u001b[39m.\u001b[39mcross_references:\n",
      "File \u001b[0;32m~/anaconda3/envs/mestrado_final/lib/python3.9/site-packages/Bio/SwissProt/__init__.py:239\u001b[0m, in \u001b[0;36mparse\u001b[0;34m(source)\u001b[0m\n\u001b[1;32m    237\u001b[0m \u001b[39mtry\u001b[39;00m:\n\u001b[1;32m    238\u001b[0m     \u001b[39mwhile\u001b[39;00m \u001b[39mTrue\u001b[39;00m:\n\u001b[0;32m--> 239\u001b[0m         record \u001b[39m=\u001b[39m _read(handle)\n\u001b[1;32m    240\u001b[0m         \u001b[39mif\u001b[39;00m \u001b[39mnot\u001b[39;00m record:\n\u001b[1;32m    241\u001b[0m             \u001b[39mreturn\u001b[39;00m\n",
      "File \u001b[0;32m~/anaconda3/envs/mestrado_final/lib/python3.9/site-packages/Bio/SwissProt/__init__.py:371\u001b[0m, in \u001b[0;36m_read\u001b[0;34m(handle)\u001b[0m\n\u001b[1;32m    369\u001b[0m     _read_kw(record, value)\n\u001b[1;32m    370\u001b[0m \u001b[39melif\u001b[39;00m key \u001b[39m==\u001b[39m \u001b[39m\"\u001b[39m\u001b[39mFT\u001b[39m\u001b[39m\"\u001b[39m:\n\u001b[0;32m--> 371\u001b[0m     _read_ft(record, line)\n\u001b[1;32m    372\u001b[0m \u001b[39melif\u001b[39;00m key \u001b[39m==\u001b[39m \u001b[39m\"\u001b[39m\u001b[39mSQ\u001b[39m\u001b[39m\"\u001b[39m:\n\u001b[1;32m    373\u001b[0m     cols \u001b[39m=\u001b[39m value\u001b[39m.\u001b[39msplit()\n",
      "File \u001b[0;32m~/anaconda3/envs/mestrado_final/lib/python3.9/site-packages/Bio/SwissProt/__init__.py:830\u001b[0m, in \u001b[0;36m_read_ft\u001b[0;34m(record, line)\u001b[0m\n\u001b[1;32m    828\u001b[0m \u001b[39m# this line is a continuation of the description of the previous feature\u001b[39;00m\n\u001b[1;32m    829\u001b[0m keys \u001b[39m=\u001b[39m \u001b[39mlist\u001b[39m(feature\u001b[39m.\u001b[39mqualifiers\u001b[39m.\u001b[39mkeys())\n\u001b[0;32m--> 830\u001b[0m key \u001b[39m=\u001b[39m keys[\u001b[39m-\u001b[39;49m\u001b[39m1\u001b[39;49m]\n\u001b[1;32m    831\u001b[0m description \u001b[39m=\u001b[39m value\u001b[39m.\u001b[39mrstrip(\u001b[39m'\u001b[39m\u001b[39m\"\u001b[39m\u001b[39m'\u001b[39m)\n\u001b[1;32m    832\u001b[0m old_description \u001b[39m=\u001b[39m feature\u001b[39m.\u001b[39mqualifiers[key]\n",
      "\u001b[0;31mIndexError\u001b[0m: list index out of range"
     ]
    }
   ],
   "source": [
    "from Bio import ExPASy\n",
    "from Bio import SeqIO\n",
    "\n",
    "# a = input(\"SwissProt\")\n",
    "a = \"P37231\"\n",
    "with ExPASy.get_sprot_raw(a) as handle:\n",
    "    record = SeqIO.read(handle, \"swiss\")\n",
    "\n",
    "\n",
    "print(\"id: \" + record.id)\n",
    "print(\"name: \" + record.name)\n",
    "print(\"description: \" + record.description)\n",
    "print(\"Seq: \" + record.seq)\n",
    "print()\n",
    "print(\"len \" + str(len(record)))\n",
    "print()\n",
    "print(record.annotations[\"keywords\"])  # analisar isto melhor dps \n",
    "print()\n",
    "print(record.annotations.keys())  # tirar dps \n",
    "print()\n",
    "print(\"molecule_type: \" + record.annotations[\"molecule_type\"])\n",
    "print()\n",
    "print(\"protein_existence: \" + str(record.annotations[\"protein_existence\"]))\n",
    "print()\n",
    "print(\"gene_name: \" + str(record.annotations[\"gene_name\"]))\n",
    "print()\n",
    "print(\"organism: \" + str(record.annotations[\"organism\"]))\n",
    "print()\n",
    "print(\"ncbi_taxid: \" + str(record.annotations[\"ncbi_taxid\"]))   # ver necessidade disto\n",
    "print()\n",
    "print(\"comment: \" + str(record.annotations[\"comment\"]))\n",
    "print()\n",
    "\n",
    "\n",
    "\n",
    "\n",
    "\n",
    "\n",
    "\n",
    "\n",
    "\n"
   ]
  }
 ],
 "metadata": {
  "kernelspec": {
   "display_name": "mestrado_final",
   "language": "python",
   "name": "python3"
  },
  "language_info": {
   "codemirror_mode": {
    "name": "ipython",
    "version": 3
   },
   "file_extension": ".py",
   "mimetype": "text/x-python",
   "name": "python",
   "nbconvert_exporter": "python",
   "pygments_lexer": "ipython3",
   "version": "3.9.13"
  },
  "orig_nbformat": 4,
  "vscode": {
   "interpreter": {
    "hash": "f2307cf6e279acbb4fe5a904c1ba66075afa04f4e5f00d0d9abed1d852b5aca9"
   }
  }
 },
 "nbformat": 4,
 "nbformat_minor": 2
}
