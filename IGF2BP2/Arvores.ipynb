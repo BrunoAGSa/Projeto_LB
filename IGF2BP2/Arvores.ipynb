{
 "cells": [
  {
   "cell_type": "code",
   "execution_count": 1,
   "metadata": {},
   "outputs": [],
   "source": [
    "from Bio import AlignIO\n",
    "from Bio import SeqIO\n",
    "from Bio.Align import MultipleSeqAlignment\n",
    "from Bio.Phylo.TreeConstruction import DistanceCalculator\n",
    "from Bio.Phylo.TreeConstruction import DistanceTreeConstructor\n",
    "from Bio import Phylo\n"
   ]
  },
  {
   "cell_type": "code",
   "execution_count": 2,
   "metadata": {},
   "outputs": [
    {
     "name": "stdout",
     "output_type": "stream",
     "text": [
      "Alignment with 12 rows and 708 columns\n",
      "MMNKLYIGNLSPAVTADDLRQLFGDRKLPLAGQVLLKSGYAFVD...RSK NP_006539.3:1-599\n",
      "MMNKLYIGNLSPAVTADDLRQLFGDRKLPLAGQVLLKSGYAFVD...RSK XP_030678805.1:1-599\n",
      "MMNKLYIGNLSPAVTADDLRQLFGDRKLPLAGQVLLKSGYAFVD...RSK XP_001095336.1:1-599\n",
      "MMNKLYIGNLSPAVTADDLRQLFGDRKLPLAGQVLLKSGYAFVD...RSK XP_011736961.1:1-599\n",
      "MMNKLYIGNLSPAVTADDLRQLFGDRKLPLAGQVLLKSGYAFVD...RSK XP_023043232.1:1-599\n",
      "MMNKLYIGNLSPAVTADDLRQLFGDRKLPLAGQVLLKSGYAFVD...RSK XP_021530140.1:1-599\n",
      "MMNKLYIGNLSPAVTADDLRQLFGDRKLPLAGQVLLKSGYAFVD...RSK XP_017393896.1:1-599\n",
      "MMNKLYIGNLSPAVTADDLRQLFGDRKLPLAGQVLLKSGYAFVD...RSK XP_035130569.1:1-599\n",
      "-MNKLYIGNLSPAVTADDLRQLFGDRKLPLAGQVLLKSGYAFVD...RSK AAD09827.1:1-598\n",
      "MMNKLYIGNLSPAVTADDLRQLFGDRKLPLAGQVLLKSGYAFVD...RSK PNI54879.1:1-605\n",
      "MMNKLYIGNLSPAVTADDLRQLFGDRKLPLAGQVLLKSGYAFVD...RSK NP_001278798.1:1-605\n",
      "MMNKLYIGNLSPAVTADDLRQLFGDRKLPLAGQVLLKSGYAFVD...RSK XP_011808764.1:1-605\n"
     ]
    }
   ],
   "source": [
    "alinhamento= AlignIO.read(\"mafft-IGF2BP2 _10.fasta\",\"fasta\")\n",
    "print(alinhamento)"
   ]
  },
  {
   "cell_type": "code",
   "execution_count": 3,
   "metadata": {},
   "outputs": [
    {
     "name": "stdout",
     "output_type": "stream",
     "text": [
      "NP_006539.3:1-599\t0\n",
      "XP_030678805.1:1-599\t0.0016318537859008053\t0\n",
      "XP_001095336.1:1-599\t0.001958224543080922\t0.00032647730982693357\t0\n",
      "XP_011736961.1:1-599\t0.004240052185257692\t0.0029354207436399493\t0.002609262883235486\t0\n",
      "XP_023043232.1:1-599\t0.003915171288743857\t0.002610114192495905\t0.002283849918433889\t0.004240052185257692\t0\n",
      "XP_021530140.1:1-599\t0.004237288135593209\t0.005867014341590648\t0.006192959582790092\t0.007822685788787531\t0.007822685788787531\t0\n",
      "XP_017393896.1:1-599\t0.005868927290511916\t0.0074991848712095965\t0.007825236387349221\t0.009455493968046902\t0.009455493968046902\t0.001955671447196883\t0\n",
      "XP_035130569.1:1-599\t0.008143322475570036\t0.006840390879478853\t0.007166123778501676\t0.008794788273615683\t0.008794788273615683\t0.003908794788273662\t0.005863192182410382\t0\n",
      "AAD09827.1:1-598\t0.0\t0.0016345210853220271\t0.0019614253023864103\t0.004246978111728139\t0.0039215686274509665\t0.0042442050277505805\t0.005878510777269752\t0.00815660685154973\t0\n",
      "PNI54879.1:1-605\t0.0\t0.0016318537859008053\t0.001958224543080922\t0.004240052185257692\t0.003915171288743857\t0.004237288135593209\t0.005868927290511916\t0.008143322475570036\t0.0\t0\n",
      "NP_001278798.1:1-605\t0.0\t0.0016318537859008053\t0.001958224543080922\t0.004240052185257692\t0.003915171288743857\t0.004237288135593209\t0.005868927290511916\t0.008143322475570036\t0.0\t0.002587322121604174\t0\n",
      "XP_011808764.1:1-605\t0.001958224543080922\t0.00032647730982693357\t0.0\t0.002609262883235486\t0.002283849918433889\t0.006192959582790092\t0.007825236387349221\t0.007166123778501676\t0.0019614253023864103\t0.004205758654157177\t0.0019404915912031306\t0\n",
      "\tNP_006539.3:1-599\tXP_030678805.1:1-599\tXP_001095336.1:1-599\tXP_011736961.1:1-599\tXP_023043232.1:1-599\tXP_021530140.1:1-599\tXP_017393896.1:1-599\tXP_035130569.1:1-599\tAAD09827.1:1-598\tPNI54879.1:1-605\tNP_001278798.1:1-605\tXP_011808764.1:1-605\n"
     ]
    }
   ],
   "source": [
    "calculator = DistanceCalculator('blosum62')\n",
    "dm = calculator.get_distance(alinhamento)\n",
    "print(dm)"
   ]
  },
  {
   "cell_type": "code",
   "execution_count": 4,
   "metadata": {},
   "outputs": [
    {
     "name": "stdout",
     "output_type": "stream",
     "text": [
      "Tree(rooted=True)\n",
      "    Clade(branch_length=0, name='Inner11')\n",
      "        Clade(name='Inner10')\n",
      "            Clade(name='XP_035130569.1:1-599')\n",
      "            Clade(name='Inner7')\n",
      "                Clade(name='XP_017393896.1:1-599')\n",
      "                Clade(name='XP_021530140.1:1-599')\n",
      "        Clade(name='Inner9')\n",
      "            Clade(name='XP_011736961.1:1-599')\n",
      "            Clade(name='Inner8')\n",
      "                Clade(name='XP_023043232.1:1-599')\n",
      "                Clade(name='Inner6')\n",
      "                    Clade(name='Inner4')\n",
      "                        Clade(name='Inner1')\n",
      "                            Clade(name='XP_011808764.1:1-605')\n",
      "                            Clade(name='XP_001095336.1:1-599')\n",
      "                        Clade(name='XP_030678805.1:1-599')\n",
      "                    Clade(name='Inner5')\n",
      "                        Clade(name='Inner2')\n",
      "                            Clade(name='NP_001278798.1:1-605')\n",
      "                            Clade(name='AAD09827.1:1-598')\n",
      "                        Clade(name='Inner3')\n",
      "                            Clade(name='PNI54879.1:1-605')\n",
      "                            Clade(name='NP_006539.3:1-599')\n"
     ]
    }
   ],
   "source": [
    "contrutor = DistanceTreeConstructor()\n",
    "upgma= contrutor.upgma(dm)\n",
    "print(upgma)\n"
   ]
  },
  {
   "cell_type": "code",
   "execution_count": 5,
   "metadata": {},
   "outputs": [
    {
     "name": "stdout",
     "output_type": "stream",
     "text": [
      "                   _________________________ XP_035130569.1:1-599\n",
      "  ________________|\n",
      " |                |               __________ XP_017393896.1:1-599\n",
      " |                |______________|\n",
      "_|                               |__________ XP_021530140.1:1-599\n",
      " |\n",
      " |                      ____________________ XP_011736961.1:1-599\n",
      " |                     |\n",
      " |_____________________|    ________________ XP_023043232.1:1-599\n",
      "                       |   |\n",
      "                       |   |                        , XP_011808764.1:1-605\n",
      "                       |___|                       _|\n",
      "                           |               _______| | XP_001095336.1:1-599\n",
      "                           |              |       |\n",
      "                           |              |       |_ XP_030678805.1:1-599\n",
      "                           |______________|\n",
      "                                          |            , NP_001278798.1:1-605\n",
      "                                          |          __|\n",
      "                                          |         |  | AAD09827.1:1-598\n",
      "                                          |_________|\n",
      "                                                    |  , PNI54879.1:1-605\n",
      "                                                    |__|\n",
      "                                                       | NP_006539.3:1-599\n",
      "\n"
     ]
    }
   ],
   "source": [
    "Phylo.draw_ascii(upgma)"
   ]
  },
  {
   "cell_type": "code",
   "execution_count": 6,
   "metadata": {},
   "outputs": [
    {
     "name": "stdout",
     "output_type": "stream",
     "text": [
      "Tree(rooted=False)\n",
      "    Clade(branch_length=0, name='Inner10')\n",
      "        Clade(name='Inner9')\n",
      "            Clade(name='Inner8')\n",
      "                Clade(name='XP_023043232.1:1-599')\n",
      "                Clade(name='XP_011736961.1:1-599')\n",
      "            Clade(name='Inner7')\n",
      "                Clade(name='Inner6')\n",
      "                    Clade(name='Inner2')\n",
      "                        Clade(name='XP_035130569.1:1-599')\n",
      "                        Clade(name='Inner1')\n",
      "                            Clade(name='XP_017393896.1:1-599')\n",
      "                            Clade(name='XP_021530140.1:1-599')\n",
      "                    Clade(name='Inner5')\n",
      "                        Clade(name='NP_001278798.1:1-605')\n",
      "                        Clade(name='Inner4')\n",
      "                            Clade(name='Inner3')\n",
      "                                Clade(name='PNI54879.1:1-605')\n",
      "                                Clade(name='AAD09827.1:1-598')\n",
      "                            Clade(name='NP_006539.3:1-599')\n",
      "                Clade(name='XP_030678805.1:1-599')\n",
      "        Clade(name='XP_001095336.1:1-599')\n",
      "        Clade(name='XP_011808764.1:1-605')\n"
     ]
    }
   ],
   "source": [
    "nj= contrutor.nj(dm)\n",
    "print(nj)"
   ]
  },
  {
   "cell_type": "code",
   "execution_count": 7,
   "metadata": {},
   "outputs": [
    {
     "name": "stdout",
     "output_type": "stream",
     "text": [
      "    _____________ XP_023043232.1:1-599\n",
      "  ,|\n",
      "  ||_______________ XP_011736961.1:1-599\n",
      "  |\n",
      "  |                               ______________________ XP_035130569.1:1-599\n",
      "  |       _______________________|\n",
      "  |      |                       |     ____________ XP_017393896.1:1-599\n",
      " ,|      |                       |____|\n",
      " || _____|                            | XP_021530140.1:1-599\n",
      " |||     |\n",
      " |||     |    _ NP_001278798.1:1-605\n",
      " |||     |   |\n",
      " |||     |___|    _ PNI54879.1:1-605\n",
      " |||         |  _|\n",
      "_| |         |_| | AAD09827.1:1-598\n",
      " | |           |\n",
      " | |           | NP_006539.3:1-599\n",
      " | |\n",
      " | | XP_030678805.1:1-599\n",
      " |\n",
      " | XP_001095336.1:1-599\n",
      " |\n",
      " | XP_011808764.1:1-605\n",
      "\n"
     ]
    }
   ],
   "source": [
    "Phylo.draw_ascii(nj)"
   ]
  }
 ],
 "metadata": {
  "kernelspec": {
   "display_name": "Python 3.9.13 ('mestrado_final')",
   "language": "python",
   "name": "python3"
  },
  "language_info": {
   "codemirror_mode": {
    "name": "ipython",
    "version": 3
   },
   "file_extension": ".py",
   "mimetype": "text/x-python",
   "name": "python",
   "nbconvert_exporter": "python",
   "pygments_lexer": "ipython3",
   "version": "3.9.13"
  },
  "orig_nbformat": 4,
  "vscode": {
   "interpreter": {
    "hash": "f2307cf6e279acbb4fe5a904c1ba66075afa04f4e5f00d0d9abed1d852b5aca9"
   }
  }
 },
 "nbformat": 4,
 "nbformat_minor": 2
}
